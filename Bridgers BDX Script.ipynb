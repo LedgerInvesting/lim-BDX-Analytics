{
 "cells": [
  {
   "cell_type": "code",
   "execution_count": 1,
   "metadata": {
    "collapsed": true,
    "ExecuteTime": {
     "end_time": "2023-11-14T19:22:43.944497Z",
     "start_time": "2023-11-14T19:22:43.522053Z"
    }
   },
   "outputs": [],
   "source": [
    "import pandas as pd\n",
    "import numpy as np\n",
    "import os"
   ]
  },
  {
   "cell_type": "code",
   "execution_count": 3,
   "outputs": [],
   "source": [
    "# Read in XLSX files\n",
    "folder_path = \"Input\"\n",
    "\n",
    "files = os.listdir(folder_path)\n",
    "\n",
    "matching_claim = [file for file in files if \"Incline Redpoint_Claim_MRL_Record @ \" in file]\n",
    "\n",
    "if not matching_claim:\n",
    "    print(\"No matching claim file found.\")\n",
    "else:\n",
    "    # Use the first matching file found (you may need to adjust this logic if multiple matches are possible)\n",
    "    claim_file_path = os.path.join(folder_path, matching_claim[0])\n",
    "    claim_df = pd.read_excel(claim_file_path, sheet_name=\"Premium_And_Loss_by_Coverage_Cl\", skiprows=1)\n",
    "\n",
    "matching_premium = [file for file in files if \"Premium_And_Loss_by_Coverage_Written_Earned Premium_Details_INBG @ \" in file]\n",
    "\n",
    "if not matching_premium:\n",
    "    print(\"No matching premium file found.\")\n",
    "else:\n",
    "    # Use the first matching file found (you may need to adjust this logic if multiple matches are possible)\n",
    "    premium_file_path = os.path.join(folder_path, matching_premium[0])\n",
    "\n",
    "    # Step 6: Read in premium xlsx file as a DataFrame\n",
    "    premium_df = pd.read_excel(premium_file_path, sheet_name=\"WP detail\", skiprows = 7)\n"
   ],
   "metadata": {
    "collapsed": false,
    "ExecuteTime": {
     "end_time": "2023-11-14T19:26:05.828357Z",
     "start_time": "2023-11-14T19:25:25.536147Z"
    }
   }
  },
  {
   "cell_type": "markdown",
   "source": [
    "### Check: whether reported claim has associated policy number in the Premium BDX"
   ],
   "metadata": {
    "collapsed": false
   }
  },
  {
   "cell_type": "code",
   "execution_count": 2,
   "outputs": [
    {
     "ename": "NameError",
     "evalue": "name 'claim_df' is not defined",
     "output_type": "error",
     "traceback": [
      "\u001B[0;31m---------------------------------------------------------------------------\u001B[0m",
      "\u001B[0;31mNameError\u001B[0m                                 Traceback (most recent call last)",
      "Cell \u001B[0;32mIn[2], line 1\u001B[0m\n\u001B[0;32m----> 1\u001B[0m \u001B[43mclaim_df\u001B[49m\n",
      "\u001B[0;31mNameError\u001B[0m: name 'claim_df' is not defined"
     ]
    }
   ],
   "source": [
    "claim_df"
   ],
   "metadata": {
    "collapsed": false,
    "ExecuteTime": {
     "end_time": "2023-11-14T19:25:20.959760Z",
     "start_time": "2023-11-14T19:25:20.664181Z"
    }
   }
  },
  {
   "cell_type": "code",
   "execution_count": 15,
   "outputs": [
    {
     "name": "stdout",
     "output_type": "stream",
     "text": [
      "Every Policy Number in Claim BDX is included in the Premium Policy Numbers.\n"
     ]
    }
   ],
   "source": [
    "#Check if Claims policy is in the Premium BDX\n",
    "is_every_inb2_policy_included = all(\n",
    "    claim_df[claim_df['Program Name'] == 'INB2']['Policy Number'].isin(claim_df['Policy Number'].unique())\n",
    ")\n",
    "\n",
    "if is_every_inb2_policy_included:\n",
    "    print(\"Every Policy Number in Claim BDX is included in the Premium Policy Numbers.\")\n",
    "else:\n",
    "    print(\"Not every Policy Number in Claim BDX is included in the Premium Policy Numbers.\")\n"
   ],
   "metadata": {
    "collapsed": false,
    "ExecuteTime": {
     "end_time": "2023-11-14T19:09:18.848134Z",
     "start_time": "2023-11-14T19:09:18.679275Z"
    }
   }
  },
  {
   "cell_type": "code",
   "execution_count": null,
   "outputs": [],
   "source": [],
   "metadata": {
    "collapsed": false
   }
  }
 ],
 "metadata": {
  "kernelspec": {
   "display_name": "Python 3",
   "language": "python",
   "name": "python3"
  },
  "language_info": {
   "codemirror_mode": {
    "name": "ipython",
    "version": 2
   },
   "file_extension": ".py",
   "mimetype": "text/x-python",
   "name": "python",
   "nbconvert_exporter": "python",
   "pygments_lexer": "ipython2",
   "version": "2.7.6"
  }
 },
 "nbformat": 4,
 "nbformat_minor": 0
}
